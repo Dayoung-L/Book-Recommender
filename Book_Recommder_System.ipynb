{
 "cells": [
  {
   "cell_type": "markdown",
   "id": "6d2546ce",
   "metadata": {},
   "source": [
    "# Book Recommender System using Content-Based Filtering with DNN\n",
    "\n",
    "## Introduction\n",
    "\n",
    "The goal of this project is to develop a book recommender system using content-based filtering with deep neural networks (DNNs) and data from Goodreads as well as crawled genres. The system recommends books to users based on the book's features (average rating, ratings count, and genres) and user features (average rating per genre)."
   ]
  },
  {
   "cell_type": "markdown",
   "id": "3d55a902",
   "metadata": {},
   "source": [
    "## Data Preparation\n",
    "\n",
    "For this project, I obtained two datasets of book features ('books') and user features ('ratings') which included information such as book ID, title, author, rating count, user ID, and user ratings from Kaggle."
   ]
  },
  {
   "cell_type": "code",
   "execution_count": 1,
   "id": "f9d9c213",
   "metadata": {},
   "outputs": [],
   "source": [
    "import pandas as pd\n",
    "import numpy as np\n",
    "\n",
    "# Load the CSV file into a pandas dataframe\n",
    "books = pd.read_csv('books.csv')\n",
    "ratings = pd.read_csv('ratings.csv')"
   ]
  },
  {
   "cell_type": "markdown",
   "id": "4913d17f",
   "metadata": {},
   "source": [
    "To ensure reasonable computation speed, I selected a subset of 1000 users' data from the user features dataset for the model building and evaluation."
   ]
  },
  {
   "cell_type": "code",
   "execution_count": 2,
   "id": "e9db0597",
   "metadata": {},
   "outputs": [],
   "source": [
    "ratings_subset = ratings.sort_values(by='user_id')\n",
    "\n",
    "# get unique user ids from ratings_subset\n",
    "unique_user_ids = ratings_subset['user_id'].drop_duplicates().iloc[:1000]\n",
    "\n",
    "# subset the DataFrame based on the unique_user_ids\n",
    "ratings_subset = ratings_subset[ratings_subset['user_id'].isin(unique_user_ids)]"
   ]
  },
  {
   "cell_type": "code",
   "execution_count": 3,
   "id": "ed456848",
   "metadata": {},
   "outputs": [],
   "source": [
    "# get unique book ids from ratings_subset\n",
    "book_ids = ratings_subset['book_id'].unique()  \n",
    "\n",
    "# subset books based on the book ids present in rating_subset\n",
    "books_subset = books[books['book_id'].isin(book_ids)]  "
   ]
  },
  {
   "cell_type": "markdown",
   "id": "41e794f3",
   "metadata": {},
   "source": [
    "### Data Crawling\n",
    "\n",
    "To enrich the data, I also crawled genre information of books from the Goodreads website."
   ]
  },
  {
   "cell_type": "code",
   "execution_count": null,
   "id": "71d93af7",
   "metadata": {},
   "outputs": [],
   "source": [
    "# Import necessary libraries\n",
    "import requests\n",
    "import re\n",
    "from bs4 import BeautifulSoup\n",
    "\n",
    "# Extract book titles from the 'title' column of the 'books_subset' DataFrame\n",
    "title = books_subset.title\n",
    "\n",
    "# Create an empty dictionary with two keys, 'Title' and 'Book URL', and empty lists as values\n",
    "data = {'Title': [], 'Book URL': []}\n",
    "\n",
    "# Create an empty DataFrame with the specified columns using the dictionary\n",
    "df = pd.DataFrame(data)\n",
    "\n",
    "# Create an empty list to store book URLs\n",
    "book_urls = []\n",
    "\n",
    "# Loop through each book title in 'title'\n",
    "for book in title:\n",
    "    # Replace spaces with plus signs and append to Goodreads search URL\n",
    "    search_url = 'https://www.goodreads.com/search?q=' + book.replace(' ', '+')\n",
    "    # Send a GET request to the search URL and store the response in 'response'\n",
    "    response = requests.get(search_url)\n",
    "    # Parse the content of the response using BeautifulSoup\n",
    "    soup = BeautifulSoup(response.content, 'html.parser')\n",
    "    # Find the first search result and extract the book URL\n",
    "    result = soup.find('a', {'class': 'bookTitle'})\n",
    "    if result:\n",
    "        book_url = 'https://www.goodreads.com' + result['href']\n",
    "    else:\n",
    "        book_url = 'NA'\n",
    "        \n",
    "    # Create a new DataFrame with the book title and URL and append it to the main DataFrame 'df'\n",
    "    new_data = pd.DataFrame({'Title': [book], 'Book URL': [book_url]})\n",
    "    df = pd.concat([df, new_data], ignore_index=True)"
   ]
  },
  {
   "cell_type": "code",
   "execution_count": null,
   "id": "b4b5891c",
   "metadata": {},
   "outputs": [],
   "source": [
    "match = []\n",
    "\n",
    "# iterate through each book URL in the DataFrame\n",
    "for book_url in df['Book URL']:\n",
    "    \n",
    "    # if there is no book URL available\n",
    "    if book_url == 'NA':\n",
    "        genre = 'NA'\n",
    "    else:    \n",
    "        while True:\n",
    "            # send a GET request to the book URL and extract the text\n",
    "            text = requests.get(book_url).text\n",
    "        \n",
    "            # define the regular expression pattern to match the desired string\n",
    "            pattern = r'{\"__typename\":\"Genre\",\"name\":\"(.*?)\",\"webUrl\":\"https://www.goodreads.com/genres/'\n",
    "            \n",
    "            # use the re.findall() method to find all occurrences of the pattern in the text\n",
    "            genre = re.findall(pattern, text)\n",
    "\n",
    "            # if genre list is not empty, break out of the while loop\n",
    "            if genre:\n",
    "                break\n",
    "                \n",
    "            # if genere list is empty even after 5 trials, break out the while loop   \n",
    "            if j > 5:\n",
    "                genre = 'NA'\n",
    "                break\n",
    "                \n",
    "            j = j + 1\n",
    "    \n",
    "    # append the genre(s) found to the 'match' list\n",
    "    match.append(genre)"
   ]
  },
  {
   "cell_type": "markdown",
   "id": "086f5142",
   "metadata": {},
   "source": [
    "### Exploratory data analysis  "
   ]
  },
  {
   "cell_type": "markdown",
   "id": "9a5e2bf2",
   "metadata": {},
   "source": [
    "The Number of Rated Books per User"
   ]
  },
  {
   "cell_type": "code",
   "execution_count": 5,
   "id": "253b0b5a",
   "metadata": {},
   "outputs": [
    {
     "data": {
      "image/png": "[encoded data removed]",
      "text/plain": [
       "<Figure size 640x480 with 1 Axes>"
      ]
     },
     "metadata": {},
     "output_type": "display_data"
    },
    {
     "name": "stdout",
     "output_type": "stream",
     "text": [
      "Mean: 113.518\n",
      "Median: 112.0\n",
      "Standard Deviation: 23.525638694836744\n"
     ]
    }
   ],
   "source": [
    "import matplotlib.pyplot as plt\n",
    "\n",
    "data = ratings_subset.groupby('user_id')['book_id'].nunique()\n",
    "\n",
    "# create a histogram with 20 bins\n",
    "plt.hist(data, bins=20)\n",
    "\n",
    "# add labels and title\n",
    "plt.xlabel('Value')\n",
    "plt.ylabel('Frequency')\n",
    "plt.title('The Number of Rated Books per User')\n",
    "\n",
    "# show the plot\n",
    "plt.show()\n",
    "\n",
    "# calculate the mean of the vector\n",
    "mean = np.mean(data)\n",
    "\n",
    "# calculate the median of the vector\n",
    "median = np.median(data)\n",
    "\n",
    "# calculate the standard deviation of the vector\n",
    "std_dev = np.std(data)\n",
    "\n",
    "# print the summary statistics\n",
    "print(\"Mean:\", mean)\n",
    "print(\"Median:\", median)\n",
    "print(\"Standard Deviation:\", std_dev)"
   ]
  },
  {
   "cell_type": "markdown",
   "id": "241c1391",
   "metadata": {},
   "source": [
    "The Number of Genres"
   ]
  },
  {
   "cell_type": "code",
   "execution_count": 6,
   "id": "2386cae0",
   "metadata": {},
   "outputs": [
    {
     "name": "stdout",
     "output_type": "stream",
     "text": [
      "633\n"
     ]
    }
   ],
   "source": [
    "from itertools import chain\n",
    "\n",
    "data = list(chain.from_iterable([x for x in match]))\n",
    "unique_genres = set(data)\n",
    "count_genres = len(unique_genres)\n",
    "\n",
    "print(count_genres) "
   ]
  },
  {
   "cell_type": "markdown",
   "id": "a5361f25",
   "metadata": {},
   "source": [
    "10 most common genres"
   ]
  },
  {
   "cell_type": "code",
   "execution_count": 7,
   "id": "9297bd28",
   "metadata": {},
   "outputs": [
    {
     "data": {
      "text/plain": [
       "[('Fiction', 6247),\n",
       " ('Audiobook', 3128),\n",
       " ('Fantasy', 2719),\n",
       " ('Adult', 2195),\n",
       " ('Romance', 1952),\n",
       " ('Mystery', 1895),\n",
       " ('Young Adult', 1742),\n",
       " ('Classics', 1718),\n",
       " ('Contemporary', 1708),\n",
       " ('Novels', 1671)]"
      ]
     },
     "execution_count": 7,
     "metadata": {},
     "output_type": "execute_result"
    }
   ],
   "source": [
    "from collections import Counter\n",
    "\n",
    "freq = Counter(data)\n",
    "freq.most_common(10)"
   ]
  },
  {
   "cell_type": "markdown",
   "id": "dd240f60",
   "metadata": {},
   "source": [
    "The Number of Ratings per Book"
   ]
  },
  {
   "cell_type": "code",
   "execution_count": 8,
   "id": "edf5feec",
   "metadata": {},
   "outputs": [
    {
     "name": "stdout",
     "output_type": "stream",
     "text": [
      "Mean: 86.33239540004894\n",
      "Median: 46.0\n",
      "Standard Deviation: 186.08779045128173\n"
     ]
    }
   ],
   "source": [
    "data = books_subset.books_count\n",
    "\n",
    "# calculate the mean of the vector\n",
    "mean = np.mean(data)\n",
    "\n",
    "# calculate the median of the vector\n",
    "median = np.median(data)\n",
    "\n",
    "# calculate the standard deviation of the vector\n",
    "std_dev = np.std(data)\n",
    "\n",
    "# print the summary statistics\n",
    "print(\"Mean:\", mean)\n",
    "print(\"Median:\", median)\n",
    "print(\"Standard Deviation:\", std_dev)"
   ]
  },
  {
   "cell_type": "markdown",
   "id": "297cd717",
   "metadata": {},
   "source": [
    "## Tranforming data"
   ]
  },
  {
   "cell_type": "code",
   "execution_count": 9,
   "id": "0c40f402",
   "metadata": {},
   "outputs": [],
   "source": [
    "books_subset_g = books_subset.assign(genre=match)"
   ]
  },
  {
   "cell_type": "code",
   "execution_count": 10,
   "id": "1e1ed108",
   "metadata": {},
   "outputs": [],
   "source": [
    "import pandas as pd\n",
    "\n",
    "# use the explode() function to convert the variable-length genre vector to a column of individual genres\n",
    "df_exploded = books_subset_g.explode('genre')\n",
    "\n",
    "# create a pivot table to convert the genre column into a set of binary indicator variables\n",
    "df_exploded = df_exploded.groupby(['book_id', 'genre']).size().unstack(fill_value=0)\n",
    "df_exploded = df_exploded.reset_index(drop = False)\n",
    "\n",
    "item_train = pd.merge(books_subset.loc[:, ['book_id', 'average_rating', 'ratings_count']], df_exploded, on = 'book_id')\n",
    "item_train = pd.merge(ratings_subset.book_id, item_train, on = 'book_id', how = 'left')"
   ]
  },
  {
   "cell_type": "markdown",
   "id": "6cd608ad",
   "metadata": {},
   "source": [
    "### user_train"
   ]
  },
  {
   "cell_type": "code",
   "execution_count": 11,
   "id": "b15351a4",
   "metadata": {},
   "outputs": [],
   "source": [
    "import pandas as pd\n",
    "\n",
    "# read in your data\n",
    "df = pd.merge(ratings_subset, books_subset_g, on = 'book_id', how = 'left')\n",
    "\n",
    "# explode the genre column into individual rows\n",
    "df = df.explode('genre')\n",
    "\n",
    "# group the data by user_id, genre, and book_id to get the average rating for each book within each user and genre\n",
    "grouped = df.groupby(['user_id', 'genre', 'book_id'])['rating'].mean()\n",
    "\n",
    "# reset the index to convert the multi-index into columns\n",
    "grouped = grouped.reset_index()\n",
    "\n",
    "# pivot the data to convert the unique genres into columns, with the values being the average rating for each user_id and genre combination\n",
    "pivot = pd.pivot_table(grouped, values='rating', index='user_id', columns='genre', aggfunc='mean')\n",
    "\n",
    "# reset the index to convert the user_id index into a column\n",
    "user_train = pivot.reset_index()\n",
    "user_train = pd.merge(ratings_subset.user_id, user_train, on = 'user_id', how = 'left')"
   ]
  },
  {
   "cell_type": "markdown",
   "id": "d58e6e48",
   "metadata": {},
   "source": [
    "### y_train"
   ]
  },
  {
   "cell_type": "code",
   "execution_count": 12,
   "id": "a9555044",
   "metadata": {},
   "outputs": [],
   "source": [
    "y_train = np.array(ratings_subset.rating)"
   ]
  },
  {
   "cell_type": "markdown",
   "id": "92425a29",
   "metadata": {},
   "source": [
    "### The format of input and output data"
   ]
  },
  {
   "cell_type": "code",
   "execution_count": 13,
   "id": "2270c91b",
   "metadata": {},
   "outputs": [
    {
     "data": {
      "text/html": [
       "<div>\n",
       "<style scoped>\n",
       "    .dataframe tbody tr th:only-of-type {\n",
       "        vertical-align: middle;\n",
       "    }\n",
       "\n",
       "    .dataframe tbody tr th {\n",
       "        vertical-align: top;\n",
       "    }\n",
       "\n",
       "    .dataframe thead th {\n",
       "        text-align: right;\n",
       "    }\n",
       "</style>\n",
       "<table border=\"1\" class=\"dataframe\">\n",
       "  <thead>\n",
       "    <tr style=\"text-align: right;\">\n",
       "      <th></th>\n",
       "      <th>user_id</th>\n",
       "      <th>13th Century</th>\n",
       "      <th>14th Century</th>\n",
       "      <th>15th Century</th>\n",
       "      <th>16th Century</th>\n",
       "      <th>17th Century</th>\n",
       "      <th>18th Century</th>\n",
       "      <th>19th Century</th>\n",
       "      <th>1st Grade</th>\n",
       "      <th>20th Century</th>\n",
       "      <th>...</th>\n",
       "      <th>Young Adult Contemporary</th>\n",
       "      <th>Young Adult Fantasy</th>\n",
       "      <th>Young Adult Historical Fiction</th>\n",
       "      <th>Young Adult Paranormal</th>\n",
       "      <th>Young Adult Romance</th>\n",
       "      <th>Young Adult Science Fiction</th>\n",
       "      <th>Young Readers</th>\n",
       "      <th>Zen</th>\n",
       "      <th>Zimbabwe</th>\n",
       "      <th>Zombies</th>\n",
       "    </tr>\n",
       "  </thead>\n",
       "  <tbody>\n",
       "    <tr>\n",
       "      <th>0</th>\n",
       "      <td>1</td>\n",
       "      <td>NaN</td>\n",
       "      <td>NaN</td>\n",
       "      <td>NaN</td>\n",
       "      <td>NaN</td>\n",
       "      <td>5.0</td>\n",
       "      <td>NaN</td>\n",
       "      <td>4.125</td>\n",
       "      <td>NaN</td>\n",
       "      <td>3.5</td>\n",
       "      <td>...</td>\n",
       "      <td>NaN</td>\n",
       "      <td>NaN</td>\n",
       "      <td>NaN</td>\n",
       "      <td>NaN</td>\n",
       "      <td>NaN</td>\n",
       "      <td>NaN</td>\n",
       "      <td>NaN</td>\n",
       "      <td>NaN</td>\n",
       "      <td>NaN</td>\n",
       "      <td>NaN</td>\n",
       "    </tr>\n",
       "    <tr>\n",
       "      <th>1</th>\n",
       "      <td>1</td>\n",
       "      <td>NaN</td>\n",
       "      <td>NaN</td>\n",
       "      <td>NaN</td>\n",
       "      <td>NaN</td>\n",
       "      <td>5.0</td>\n",
       "      <td>NaN</td>\n",
       "      <td>4.125</td>\n",
       "      <td>NaN</td>\n",
       "      <td>3.5</td>\n",
       "      <td>...</td>\n",
       "      <td>NaN</td>\n",
       "      <td>NaN</td>\n",
       "      <td>NaN</td>\n",
       "      <td>NaN</td>\n",
       "      <td>NaN</td>\n",
       "      <td>NaN</td>\n",
       "      <td>NaN</td>\n",
       "      <td>NaN</td>\n",
       "      <td>NaN</td>\n",
       "      <td>NaN</td>\n",
       "    </tr>\n",
       "    <tr>\n",
       "      <th>2</th>\n",
       "      <td>1</td>\n",
       "      <td>NaN</td>\n",
       "      <td>NaN</td>\n",
       "      <td>NaN</td>\n",
       "      <td>NaN</td>\n",
       "      <td>5.0</td>\n",
       "      <td>NaN</td>\n",
       "      <td>4.125</td>\n",
       "      <td>NaN</td>\n",
       "      <td>3.5</td>\n",
       "      <td>...</td>\n",
       "      <td>NaN</td>\n",
       "      <td>NaN</td>\n",
       "      <td>NaN</td>\n",
       "      <td>NaN</td>\n",
       "      <td>NaN</td>\n",
       "      <td>NaN</td>\n",
       "      <td>NaN</td>\n",
       "      <td>NaN</td>\n",
       "      <td>NaN</td>\n",
       "      <td>NaN</td>\n",
       "    </tr>\n",
       "    <tr>\n",
       "      <th>3</th>\n",
       "      <td>1</td>\n",
       "      <td>NaN</td>\n",
       "      <td>NaN</td>\n",
       "      <td>NaN</td>\n",
       "      <td>NaN</td>\n",
       "      <td>5.0</td>\n",
       "      <td>NaN</td>\n",
       "      <td>4.125</td>\n",
       "      <td>NaN</td>\n",
       "      <td>3.5</td>\n",
       "      <td>...</td>\n",
       "      <td>NaN</td>\n",
       "      <td>NaN</td>\n",
       "      <td>NaN</td>\n",
       "      <td>NaN</td>\n",
       "      <td>NaN</td>\n",
       "      <td>NaN</td>\n",
       "      <td>NaN</td>\n",
       "      <td>NaN</td>\n",
       "      <td>NaN</td>\n",
       "      <td>NaN</td>\n",
       "    </tr>\n",
       "    <tr>\n",
       "      <th>4</th>\n",
       "      <td>1</td>\n",
       "      <td>NaN</td>\n",
       "      <td>NaN</td>\n",
       "      <td>NaN</td>\n",
       "      <td>NaN</td>\n",
       "      <td>5.0</td>\n",
       "      <td>NaN</td>\n",
       "      <td>4.125</td>\n",
       "      <td>NaN</td>\n",
       "      <td>3.5</td>\n",
       "      <td>...</td>\n",
       "      <td>NaN</td>\n",
       "      <td>NaN</td>\n",
       "      <td>NaN</td>\n",
       "      <td>NaN</td>\n",
       "      <td>NaN</td>\n",
       "      <td>NaN</td>\n",
       "      <td>NaN</td>\n",
       "      <td>NaN</td>\n",
       "      <td>NaN</td>\n",
       "      <td>NaN</td>\n",
       "    </tr>\n",
       "  </tbody>\n",
       "</table>\n",
       "<p>5 rows × 633 columns</p>\n",
       "</div>"
      ],
      "text/plain": [
       "   user_id  13th Century  14th Century  15th Century  16th Century   \n",
       "0        1           NaN           NaN           NaN           NaN  \\\n",
       "1        1           NaN           NaN           NaN           NaN   \n",
       "2        1           NaN           NaN           NaN           NaN   \n",
       "3        1           NaN           NaN           NaN           NaN   \n",
       "4        1           NaN           NaN           NaN           NaN   \n",
       "\n",
       "   17th Century  18th Century  19th Century  1st Grade  20th Century  ...   \n",
       "0           5.0           NaN         4.125        NaN           3.5  ...  \\\n",
       "1           5.0           NaN         4.125        NaN           3.5  ...   \n",
       "2           5.0           NaN         4.125        NaN           3.5  ...   \n",
       "3           5.0           NaN         4.125        NaN           3.5  ...   \n",
       "4           5.0           NaN         4.125        NaN           3.5  ...   \n",
       "\n",
       "   Young Adult Contemporary  Young Adult Fantasy   \n",
       "0                       NaN                  NaN  \\\n",
       "1                       NaN                  NaN   \n",
       "2                       NaN                  NaN   \n",
       "3                       NaN                  NaN   \n",
       "4                       NaN                  NaN   \n",
       "\n",
       "   Young Adult Historical Fiction  Young Adult Paranormal   \n",
       "0                             NaN                     NaN  \\\n",
       "1                             NaN                     NaN   \n",
       "2                             NaN                     NaN   \n",
       "3                             NaN                     NaN   \n",
       "4                             NaN                     NaN   \n",
       "\n",
       "   Young Adult Romance  Young Adult Science Fiction  Young Readers  Zen   \n",
       "0                  NaN                          NaN            NaN  NaN  \\\n",
       "1                  NaN                          NaN            NaN  NaN   \n",
       "2                  NaN                          NaN            NaN  NaN   \n",
       "3                  NaN                          NaN            NaN  NaN   \n",
       "4                  NaN                          NaN            NaN  NaN   \n",
       "\n",
       "   Zimbabwe  Zombies  \n",
       "0       NaN      NaN  \n",
       "1       NaN      NaN  \n",
       "2       NaN      NaN  \n",
       "3       NaN      NaN  \n",
       "4       NaN      NaN  \n",
       "\n",
       "[5 rows x 633 columns]"
      ]
     },
     "execution_count": 13,
     "metadata": {},
     "output_type": "execute_result"
    }
   ],
   "source": [
    "user_train.head(5)"
   ]
  },
  {
   "cell_type": "code",
   "execution_count": 14,
   "id": "2993e695",
   "metadata": {},
   "outputs": [
    {
     "data": {
      "text/html": [
       "<div>\n",
       "<style scoped>\n",
       "    .dataframe tbody tr th:only-of-type {\n",
       "        vertical-align: middle;\n",
       "    }\n",
       "\n",
       "    .dataframe tbody tr th {\n",
       "        vertical-align: top;\n",
       "    }\n",
       "\n",
       "    .dataframe thead th {\n",
       "        text-align: right;\n",
       "    }\n",
       "</style>\n",
       "<table border=\"1\" class=\"dataframe\">\n",
       "  <thead>\n",
       "    <tr style=\"text-align: right;\">\n",
       "      <th></th>\n",
       "      <th>book_id</th>\n",
       "      <th>average_rating</th>\n",
       "      <th>ratings_count</th>\n",
       "      <th>13th Century</th>\n",
       "      <th>14th Century</th>\n",
       "      <th>15th Century</th>\n",
       "      <th>16th Century</th>\n",
       "      <th>17th Century</th>\n",
       "      <th>18th Century</th>\n",
       "      <th>19th Century</th>\n",
       "      <th>...</th>\n",
       "      <th>Young Adult Contemporary</th>\n",
       "      <th>Young Adult Fantasy</th>\n",
       "      <th>Young Adult Historical Fiction</th>\n",
       "      <th>Young Adult Paranormal</th>\n",
       "      <th>Young Adult Romance</th>\n",
       "      <th>Young Adult Science Fiction</th>\n",
       "      <th>Young Readers</th>\n",
       "      <th>Zen</th>\n",
       "      <th>Zimbabwe</th>\n",
       "      <th>Zombies</th>\n",
       "    </tr>\n",
       "  </thead>\n",
       "  <tbody>\n",
       "    <tr>\n",
       "      <th>0</th>\n",
       "      <td>258</td>\n",
       "      <td>4.24</td>\n",
       "      <td>263685</td>\n",
       "      <td>0</td>\n",
       "      <td>0</td>\n",
       "      <td>0</td>\n",
       "      <td>0</td>\n",
       "      <td>0</td>\n",
       "      <td>0</td>\n",
       "      <td>0</td>\n",
       "      <td>...</td>\n",
       "      <td>0</td>\n",
       "      <td>0</td>\n",
       "      <td>0</td>\n",
       "      <td>0</td>\n",
       "      <td>0</td>\n",
       "      <td>0</td>\n",
       "      <td>0</td>\n",
       "      <td>0</td>\n",
       "      <td>0</td>\n",
       "      <td>0</td>\n",
       "    </tr>\n",
       "    <tr>\n",
       "      <th>1</th>\n",
       "      <td>140</td>\n",
       "      <td>4.20</td>\n",
       "      <td>443951</td>\n",
       "      <td>0</td>\n",
       "      <td>0</td>\n",
       "      <td>0</td>\n",
       "      <td>0</td>\n",
       "      <td>0</td>\n",
       "      <td>0</td>\n",
       "      <td>0</td>\n",
       "      <td>...</td>\n",
       "      <td>0</td>\n",
       "      <td>0</td>\n",
       "      <td>0</td>\n",
       "      <td>0</td>\n",
       "      <td>0</td>\n",
       "      <td>0</td>\n",
       "      <td>0</td>\n",
       "      <td>0</td>\n",
       "      <td>0</td>\n",
       "      <td>0</td>\n",
       "    </tr>\n",
       "    <tr>\n",
       "      <th>2</th>\n",
       "      <td>869</td>\n",
       "      <td>3.73</td>\n",
       "      <td>101669</td>\n",
       "      <td>0</td>\n",
       "      <td>0</td>\n",
       "      <td>0</td>\n",
       "      <td>0</td>\n",
       "      <td>0</td>\n",
       "      <td>0</td>\n",
       "      <td>0</td>\n",
       "      <td>...</td>\n",
       "      <td>0</td>\n",
       "      <td>0</td>\n",
       "      <td>0</td>\n",
       "      <td>0</td>\n",
       "      <td>0</td>\n",
       "      <td>0</td>\n",
       "      <td>0</td>\n",
       "      <td>0</td>\n",
       "      <td>0</td>\n",
       "      <td>0</td>\n",
       "    </tr>\n",
       "    <tr>\n",
       "      <th>3</th>\n",
       "      <td>2679</td>\n",
       "      <td>3.56</td>\n",
       "      <td>35677</td>\n",
       "      <td>0</td>\n",
       "      <td>0</td>\n",
       "      <td>0</td>\n",
       "      <td>0</td>\n",
       "      <td>0</td>\n",
       "      <td>0</td>\n",
       "      <td>0</td>\n",
       "      <td>...</td>\n",
       "      <td>0</td>\n",
       "      <td>0</td>\n",
       "      <td>0</td>\n",
       "      <td>0</td>\n",
       "      <td>0</td>\n",
       "      <td>0</td>\n",
       "      <td>0</td>\n",
       "      <td>0</td>\n",
       "      <td>0</td>\n",
       "      <td>0</td>\n",
       "    </tr>\n",
       "    <tr>\n",
       "      <th>4</th>\n",
       "      <td>1310</td>\n",
       "      <td>4.11</td>\n",
       "      <td>60126</td>\n",
       "      <td>0</td>\n",
       "      <td>0</td>\n",
       "      <td>0</td>\n",
       "      <td>0</td>\n",
       "      <td>0</td>\n",
       "      <td>0</td>\n",
       "      <td>0</td>\n",
       "      <td>...</td>\n",
       "      <td>0</td>\n",
       "      <td>0</td>\n",
       "      <td>0</td>\n",
       "      <td>0</td>\n",
       "      <td>0</td>\n",
       "      <td>0</td>\n",
       "      <td>0</td>\n",
       "      <td>0</td>\n",
       "      <td>0</td>\n",
       "      <td>0</td>\n",
       "    </tr>\n",
       "  </tbody>\n",
       "</table>\n",
       "<p>5 rows × 635 columns</p>\n",
       "</div>"
      ],
      "text/plain": [
       "   book_id  average_rating  ratings_count  13th Century  14th Century   \n",
       "0      258            4.24         263685             0             0  \\\n",
       "1      140            4.20         443951             0             0   \n",
       "2      869            3.73         101669             0             0   \n",
       "3     2679            3.56          35677             0             0   \n",
       "4     1310            4.11          60126             0             0   \n",
       "\n",
       "   15th Century  16th Century  17th Century  18th Century  19th Century  ...   \n",
       "0             0             0             0             0             0  ...  \\\n",
       "1             0             0             0             0             0  ...   \n",
       "2             0             0             0             0             0  ...   \n",
       "3             0             0             0             0             0  ...   \n",
       "4             0             0             0             0             0  ...   \n",
       "\n",
       "   Young Adult Contemporary  Young Adult Fantasy   \n",
       "0                         0                    0  \\\n",
       "1                         0                    0   \n",
       "2                         0                    0   \n",
       "3                         0                    0   \n",
       "4                         0                    0   \n",
       "\n",
       "   Young Adult Historical Fiction  Young Adult Paranormal   \n",
       "0                               0                       0  \\\n",
       "1                               0                       0   \n",
       "2                               0                       0   \n",
       "3                               0                       0   \n",
       "4                               0                       0   \n",
       "\n",
       "   Young Adult Romance  Young Adult Science Fiction  Young Readers  Zen   \n",
       "0                    0                            0              0    0  \\\n",
       "1                    0                            0              0    0   \n",
       "2                    0                            0              0    0   \n",
       "3                    0                            0              0    0   \n",
       "4                    0                            0              0    0   \n",
       "\n",
       "   Zimbabwe  Zombies  \n",
       "0         0        0  \n",
       "1         0        0  \n",
       "2         0        0  \n",
       "3         0        0  \n",
       "4         0        0  \n",
       "\n",
       "[5 rows x 635 columns]"
      ]
     },
     "execution_count": 14,
     "metadata": {},
     "output_type": "execute_result"
    }
   ],
   "source": [
    "item_train.head(5)"
   ]
  },
  {
   "cell_type": "code",
   "execution_count": 15,
   "id": "0cd9b877",
   "metadata": {},
   "outputs": [
    {
     "data": {
      "text/plain": [
       "array([5, 3, 4, 3, 4], dtype=int64)"
      ]
     },
     "execution_count": 15,
     "metadata": {},
     "output_type": "execute_result"
    }
   ],
   "source": [
    "y_train[:5]"
   ]
  },
  {
   "cell_type": "markdown",
   "id": "c0f3513b",
   "metadata": {},
   "source": [
    "## Model Development\n",
    "I developed a DNN-based recommender system using Python and TensorFlow. The model consisted of multiple layers, including embedding layers for the book and user features, as well as fully connected layers."
   ]
  },
  {
   "cell_type": "code",
   "execution_count": 16,
   "id": "14300041",
   "metadata": {},
   "outputs": [],
   "source": [
    "# Replace missing values of user_train as 0\n",
    "user_train.fillna(0, inplace=True)"
   ]
  },
  {
   "cell_type": "code",
   "execution_count": 17,
   "id": "364a1290",
   "metadata": {},
   "outputs": [],
   "source": [
    "import numpy.ma as ma\n",
    "import pandas as pd\n",
    "import tensorflow as tf\n",
    "from tensorflow import keras\n",
    "from sklearn.preprocessing import StandardScaler, MinMaxScaler\n",
    "from sklearn.model_selection import train_test_split\n",
    "pd.set_option(\"display.precision\", 1)"
   ]
  },
  {
   "cell_type": "code",
   "execution_count": 18,
   "id": "da7105f8",
   "metadata": {},
   "outputs": [
    {
     "name": "stdout",
     "output_type": "stream",
     "text": [
      "Number of training vectors: 113518\n",
      "True\n",
      "True\n"
     ]
    }
   ],
   "source": [
    "num_user_features = user_train.shape[1] - 1\n",
    "num_item_features = item_train.shape[1] - 1  \n",
    "uvs = 1  # user genre vector start\n",
    "ivs = 3  # item genre vector start\n",
    "u_s = 1  # start of columns to use in training, user\n",
    "i_s = 1 # start of columns to use in training, items\n",
    "print(f\"Number of training vectors: {len(item_train)}\")\n",
    "\n",
    "# scale training data\n",
    "item_train_unscaled = item_train\n",
    "user_train_unscaled = user_train\n",
    "y_train_unscaled    = y_train\n",
    "\n",
    "scalerItem = StandardScaler()\n",
    "scalerItem.fit(item_train)\n",
    "item_train = scalerItem.transform(item_train)\n",
    "\n",
    "scalerUser = StandardScaler()\n",
    "scalerUser.fit(user_train)\n",
    "user_train = scalerUser.transform(user_train)\n",
    "\n",
    "scalerTarget = MinMaxScaler((-1, 1))\n",
    "scalerTarget.fit(y_train.reshape(-1, 1))\n",
    "y_train = scalerTarget.transform(y_train.reshape(-1, 1))\n",
    "\n",
    "print(np.allclose(item_train_unscaled, scalerItem.inverse_transform(item_train)))\n",
    "print(np.allclose(user_train_unscaled, scalerUser.inverse_transform(user_train)))\n",
    "\n",
    "item_train, item_test = train_test_split(item_train, train_size=0.80, shuffle=True, random_state=1)\n",
    "user_train, user_test = train_test_split(user_train, train_size=0.80, shuffle=True, random_state=1)\n",
    "y_train, y_test       = train_test_split(y_train,    train_size=0.80, shuffle=True, random_state=1)"
   ]
  },
  {
   "cell_type": "markdown",
   "id": "X0V-cJRXP2UM",
   "metadata": {
    "id": "X0V-cJRXP2UM"
   },
   "source": [
    "# Deep Neural Network for Content-Based filtering"
   ]
  },
  {
   "cell_type": "code",
   "execution_count": 19,
   "id": "cb6cd317",
   "metadata": {
    "colab": {
     "base_uri": "https://localhost:8080/"
    },
    "id": "cb6cd317",
    "outputId": "133912a6-fa4c-4121-f906-532fadf034b7"
   },
   "outputs": [
    {
     "name": "stdout",
     "output_type": "stream",
     "text": [
      "Model: \"model\"\n",
      "__________________________________________________________________________________________________\n",
      " Layer (type)                   Output Shape         Param #     Connected to                     \n",
      "==================================================================================================\n",
      " input_1 (InputLayer)           [(None, 632)]        0           []                               \n",
      "                                                                                                  \n",
      " input_2 (InputLayer)           [(None, 634)]        0           []                               \n",
      "                                                                                                  \n",
      " sequential (Sequential)        (None, 32)           199072      ['input_1[0][0]']                \n",
      "                                                                                                  \n",
      " sequential_1 (Sequential)      (None, 32)           199584      ['input_2[0][0]']                \n",
      "                                                                                                  \n",
      " tf.math.l2_normalize (TFOpLamb  (None, 32)          0           ['sequential[0][0]']             \n",
      " da)                                                                                              \n",
      "                                                                                                  \n",
      " tf.math.l2_normalize_1 (TFOpLa  (None, 32)          0           ['sequential_1[0][0]']           \n",
      " mbda)                                                                                            \n",
      "                                                                                                  \n",
      " dot (Dot)                      (None, 1)            0           ['tf.math.l2_normalize[0][0]',   \n",
      "                                                                  'tf.math.l2_normalize_1[0][0]'] \n",
      "                                                                                                  \n",
      "==================================================================================================\n",
      "Total params: 398,656\n",
      "Trainable params: 398,656\n",
      "Non-trainable params: 0\n",
      "__________________________________________________________________________________________________\n"
     ]
    }
   ],
   "source": [
    "num_outputs = 32\n",
    "tf.random.set_seed(1)\n",
    "user_NN = tf.keras.models.Sequential([   \n",
    "    tf.keras.layers.Dense(256, activation='relu'),\n",
    "    tf.keras.layers.Dense(128, activation='relu'),\n",
    "    tf.keras.layers.Dense(num_outputs),    \n",
    "])\n",
    "\n",
    "item_NN = tf.keras.models.Sequential([   \n",
    "    tf.keras.layers.Dense(256, activation='relu'),\n",
    "    tf.keras.layers.Dense(128, activation='relu'),\n",
    "    tf.keras.layers.Dense(num_outputs),   \n",
    "])\n",
    "\n",
    "# create the user input and point to the base network\n",
    "input_user = tf.keras.layers.Input(shape=(num_user_features))\n",
    "vu = user_NN(input_user)\n",
    "vu = tf.linalg.l2_normalize(vu, axis=1)\n",
    "\n",
    "# create the item input and point to the base network\n",
    "input_item = tf.keras.layers.Input(shape=(num_item_features))\n",
    "vm = item_NN(input_item)\n",
    "vm = tf.linalg.l2_normalize(vm, axis=1)\n",
    "\n",
    "# compute the dot product of the two vectors vu and vm\n",
    "output = tf.keras.layers.Dot(axes=1)([vu, vm])\n",
    "\n",
    "# specify the inputs and output of the model\n",
    "model = tf.keras.Model([input_user, input_item], output)\n",
    "\n",
    "model.summary()"
   ]
  },
  {
   "cell_type": "code",
   "execution_count": 20,
   "id": "163014cb",
   "metadata": {
    "id": "163014cb"
   },
   "outputs": [],
   "source": [
    "tf.random.set_seed(1)\n",
    "cost_fn = tf.keras.losses.MeanSquaredError()\n",
    "opt = keras.optimizers.Adam(learning_rate=0.01)\n",
    "model.compile(optimizer=opt,\n",
    "              loss=cost_fn)"
   ]
  },
  {
   "cell_type": "code",
   "execution_count": 21,
   "id": "c442657c",
   "metadata": {
    "id": "c442657c"
   },
   "outputs": [
    {
     "name": "stdout",
     "output_type": "stream",
     "text": [
      "Epoch 1/10\n",
      "2838/2838 [==============================] - 10s 3ms/step - loss: 0.1987\n",
      "Epoch 2/10\n",
      "2838/2838 [==============================] - 9s 3ms/step - loss: 0.1899\n",
      "Epoch 3/10\n",
      "2838/2838 [==============================] - 9s 3ms/step - loss: 0.1861\n",
      "Epoch 4/10\n",
      "2838/2838 [==============================] - 10s 3ms/step - loss: 0.1815\n",
      "Epoch 5/10\n",
      "2838/2838 [==============================] - 9s 3ms/step - loss: 0.1775\n",
      "Epoch 6/10\n",
      "2838/2838 [==============================] - 9s 3ms/step - loss: 0.1742\n",
      "Epoch 7/10\n",
      "2838/2838 [==============================] - 11s 4ms/step - loss: 0.1714\n",
      "Epoch 8/10\n",
      "2838/2838 [==============================] - 10s 4ms/step - loss: 0.1694\n",
      "Epoch 9/10\n",
      "2838/2838 [==============================] - 10s 4ms/step - loss: 0.1675\n",
      "Epoch 10/10\n",
      "2838/2838 [==============================] - 10s 4ms/step - loss: 0.1659\n"
     ]
    },
    {
     "data": {
      "text/plain": [
       "<keras.callbacks.History at 0x2a68b8c5250>"
      ]
     },
     "execution_count": 21,
     "metadata": {},
     "output_type": "execute_result"
    }
   ],
   "source": [
    "tf.random.set_seed(1)\n",
    "model.fit([user_train[:, u_s:], item_train[:, i_s:]], y_train, epochs=10)"
   ]
  },
  {
   "cell_type": "markdown",
   "id": "bf18ae02",
   "metadata": {},
   "source": [
    "## Model Evaluation\n",
    "\n",
    "I evaluated the model using test dataset."
   ]
  },
  {
   "cell_type": "code",
   "execution_count": 22,
   "id": "9a46a545",
   "metadata": {
    "scrolled": true
   },
   "outputs": [
    {
     "name": "stdout",
     "output_type": "stream",
     "text": [
      "710/710 [==============================] - 1s 2ms/step - loss: 0.1872\n"
     ]
    },
    {
     "data": {
      "text/plain": [
       "0.1871759593486786"
      ]
     },
     "execution_count": 22,
     "metadata": {},
     "output_type": "execute_result"
    }
   ],
   "source": [
    "model.evaluate([user_test[:, u_s:], item_test[:, i_s:]], y_test)"
   ]
  },
  {
   "cell_type": "code",
   "execution_count": null,
   "id": "347309f4",
   "metadata": {},
   "outputs": [],
   "source": []
  }
 ],
 "metadata": {
  "kernelspec": {
   "display_name": "Python 3 (ipykernel)",
   "language": "python",
   "name": "python3"
  },
  "language_info": {
   "codemirror_mode": {
    "name": "ipython",
    "version": 3
   },
   "file_extension": ".py",
   "mimetype": "text/x-python",
   "name": "python",
   "nbconvert_exporter": "python",
   "pygments_lexer": "ipython3",
   "version": "3.11.3"
  }
 },
 "nbformat": 4,
 "nbformat_minor": 5
}
